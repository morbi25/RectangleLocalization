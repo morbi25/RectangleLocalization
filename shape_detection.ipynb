{
 "cells": [
  {
   "cell_type": "markdown",
   "id": "92634ff3",
   "metadata": {},
   "source": [
    "# Imports\n",
    "Import modules used in this notebook:"
   ]
  },
  {
   "cell_type": "code",
   "execution_count": 1,
   "id": "370c2b7c",
   "metadata": {},
   "outputs": [],
   "source": [
    "import torch\n",
    "import torchvision\n",
    "import numpy as np\n",
    "import matplotlib\n",
    "from torch import nn\n",
    "from torch.utils.data import DataLoader\n",
    "from torchinfo import summary\n",
    "from data.dataset import ShapeDataset\n",
    "from network.objdetec import ConvEasy\n",
    "from network.optimizer import train_loop, test_loop\n",
    "from matplotlib import pyplot as plt\n",
    "%matplotlib inline"
   ]
  },
  {
   "cell_type": "markdown",
   "id": "19f9835c",
   "metadata": {},
   "source": [
    "# Device for training\n",
    "Check if CUDA is available:"
   ]
  },
  {
   "cell_type": "code",
   "execution_count": 2,
   "id": "27f7ffde",
   "metadata": {},
   "outputs": [
    {
     "name": "stdout",
     "output_type": "stream",
     "text": [
      "Using cuda device\n"
     ]
    }
   ],
   "source": [
    "device = \"cuda\" if torch.cuda.is_available() else \"cpu\"\n",
    "print(\"Using {} device\".format(device))\n",
    "#device = \"cpu\""
   ]
  },
  {
   "cell_type": "markdown",
   "id": "6d26e013",
   "metadata": {},
   "source": [
    "# Hyperparameter\n",
    "- Learning rate\n",
    "- Batch size\n",
    "- Epochs"
   ]
  },
  {
   "cell_type": "code",
   "execution_count": 3,
   "id": "41839cc8",
   "metadata": {},
   "outputs": [],
   "source": [
    "learning_rate = 5e-4\n",
    "batch_size = 32\n",
    "epochs = 30"
   ]
  },
  {
   "cell_type": "markdown",
   "id": "7930d2c4",
   "metadata": {},
   "source": [
    "# Dataset\n",
    "Create dataset"
   ]
  },
  {
   "cell_type": "code",
   "execution_count": 4,
   "id": "650762b6",
   "metadata": {},
   "outputs": [],
   "source": [
    "num_obj = 1\n",
    "num_imgs_train = 100000\n",
    "num_imgs_val = 10000\n",
    "num_imgs_test = 10000\n",
    "img_width, img_height = 32, 32\n",
    "\n",
    "train_set = ShapeDataset(num_obj, num_imgs_train, img_width, img_height)\n",
    "val_set = ShapeDataset(num_obj, num_imgs_val, img_width, img_height)\n",
    "test_set = ShapeDataset(num_obj, num_imgs_test, img_width, img_height)"
   ]
  },
  {
   "cell_type": "code",
   "execution_count": 5,
   "id": "3f337552",
   "metadata": {},
   "outputs": [
    {
     "data": {
      "text/plain": [
       "(tensor([[[0., 0., 0.,  ..., 0., 0., 0.],\n",
       "          [0., 0., 0.,  ..., 0., 0., 0.],\n",
       "          [0., 0., 0.,  ..., 0., 0., 0.],\n",
       "          ...,\n",
       "          [0., 0., 0.,  ..., 0., 0., 0.],\n",
       "          [0., 0., 0.,  ..., 0., 0., 0.],\n",
       "          [0., 0., 0.,  ..., 0., 0., 0.]]], dtype=torch.float64),\n",
       " tensor([[25., 17.,  4., 11.]], dtype=torch.float64))"
      ]
     },
     "execution_count": 5,
     "metadata": {},
     "output_type": "execute_result"
    }
   ],
   "source": [
    "train_set[0]"
   ]
  },
  {
   "cell_type": "markdown",
   "id": "6931e7ce",
   "metadata": {},
   "source": [
    "Look at some dataset examples:"
   ]
  },
  {
   "cell_type": "code",
   "execution_count": 6,
   "id": "8723eb2e",
   "metadata": {},
   "outputs": [
    {
     "data": {
      "image/png": "[encoded data removed]",
      "text/plain": [
       "<Figure size 720x720 with 9 Axes>"
      ]
     },
     "metadata": {
      "needs_background": "light"
     },
     "output_type": "display_data"
    }
   ],
   "source": [
    "fig = plt.figure(figsize=(10, 10))\n",
    "rows, cols = 3, 3\n",
    "\n",
    "for i in range(1, rows * cols + 1):\n",
    "    sample_idx = np.random.randint(0, len(train_set) - 1)\n",
    "    img, label = train_set[sample_idx]\n",
    "    fig.add_subplot(rows, cols, i)\n",
    "    plt.title(f\"Bild {i}\")\n",
    "    plt.subplots_adjust(wspace=0.4, hspace=0.5)\n",
    "    plt.imshow(img[0].T, origin=\"lower\", extent=[0, img_width, 0, img_height])\n",
    "    for bbox in label:\n",
    "        plt.gca().add_patch(matplotlib.patches.Rectangle((bbox[0], bbox[1]), bbox[2], bbox[3], ec='r', fc='none'))\n",
    "plt.show()"
   ]
  },
  {
   "cell_type": "markdown",
   "id": "b502d9a5",
   "metadata": {},
   "source": [
    "# Dataloader\n",
    "Define Dataloader:"
   ]
  },
  {
   "cell_type": "code",
   "execution_count": 7,
   "id": "07fdfced",
   "metadata": {},
   "outputs": [],
   "source": [
    "train_dataloader = DataLoader(train_set, batch_size, num_workers=16, shuffle=True)\n",
    "val_dataloader = DataLoader(val_set, batch_size, num_workers=16)\n",
    "test_dataloader = DataLoader(test_set, batch_size, num_workers=16)"
   ]
  },
  {
   "cell_type": "markdown",
   "id": "50f0f131",
   "metadata": {},
   "source": [
    "Check if the shape of batches is as expected:"
   ]
  },
  {
   "cell_type": "code",
   "execution_count": 8,
   "id": "fc2c69ca",
   "metadata": {},
   "outputs": [
    {
     "name": "stdout",
     "output_type": "stream",
     "text": [
      "torch.Size([32, 1, 32, 32])\n",
      "torch.Size([32, 1, 32, 32])\n",
      "torch.Size([32, 1, 32, 32])\n",
      "torch.Size([32, 1, 32, 32])\n"
     ]
    },
    {
     "data": {
      "text/plain": [
       "<Figure size 2304x2304 with 0 Axes>"
      ]
     },
     "metadata": {},
     "output_type": "display_data"
    }
   ],
   "source": [
    "fig = plt.figure(figsize=(img_width, img_height))\n",
    "rows, cols = 3, 3\n",
    "for batch, (img, label) in enumerate(train_dataloader):\n",
    "    \n",
    "    print(img.shape)\n",
    "    \n",
    "    if batch >= 3:\n",
    "        break"
   ]
  },
  {
   "cell_type": "markdown",
   "id": "face5585",
   "metadata": {},
   "source": [
    "# Model\n",
    "Define mean squared error loss as loss function:"
   ]
  },
  {
   "cell_type": "code",
   "execution_count": 9,
   "id": "6ae9dc7c",
   "metadata": {},
   "outputs": [],
   "source": [
    "loss_fn = nn.MSELoss()"
   ]
  },
  {
   "cell_type": "markdown",
   "id": "36125e6c",
   "metadata": {},
   "source": [
    "Define model and move it to gpu:"
   ]
  },
  {
   "cell_type": "code",
   "execution_count": 10,
   "id": "3bcaa735",
   "metadata": {},
   "outputs": [
    {
     "data": {
      "text/plain": [
       "device(type='cuda', index=0)"
      ]
     },
     "execution_count": 10,
     "metadata": {},
     "output_type": "execute_result"
    }
   ],
   "source": [
    "model = ConvEasy(num_obj).to(device)\n",
    "next(model.parameters()).device"
   ]
  },
  {
   "cell_type": "markdown",
   "id": "5fa59696",
   "metadata": {},
   "source": [
    "Look at model summary:"
   ]
  },
  {
   "cell_type": "code",
   "execution_count": 11,
   "id": "40cf93f7",
   "metadata": {},
   "outputs": [
    {
     "data": {
      "text/plain": [
       "==========================================================================================\n",
       "Layer (type:depth-idx)                   Output Shape              Param #\n",
       "==========================================================================================\n",
       "ConvEasy                                 --                        --\n",
       "├─Sequential: 1-1                        [1, 4]                    --\n",
       "│    └─Conv2d: 2-1                       [1, 32, 28, 28]           832\n",
       "│    └─ReLU: 2-2                         [1, 32, 28, 28]           --\n",
       "│    └─MaxPool2d: 2-3                    [1, 32, 14, 14]           --\n",
       "│    └─Flatten: 2-4                      [1, 6272]                 --\n",
       "│    └─Linear: 2-5                       [1, 128]                  802,944\n",
       "│    └─ReLU: 2-6                         [1, 128]                  --\n",
       "│    └─Linear: 2-7                       [1, 4]                    516\n",
       "==========================================================================================\n",
       "Total params: 804,292\n",
       "Trainable params: 804,292\n",
       "Non-trainable params: 0\n",
       "Total mult-adds (M): 1.46\n",
       "==========================================================================================\n",
       "Input size (MB): 0.00\n",
       "Forward/backward pass size (MB): 0.20\n",
       "Params size (MB): 3.22\n",
       "Estimated Total Size (MB): 3.42\n",
       "=========================================================================================="
      ]
     },
     "execution_count": 11,
     "metadata": {},
     "output_type": "execute_result"
    }
   ],
   "source": [
    "summary(model, (1, 1, 32, 32), device=device)"
   ]
  },
  {
   "cell_type": "markdown",
   "id": "6c08cfb5",
   "metadata": {},
   "source": [
    "Transform weights of the model to double tensor:"
   ]
  },
  {
   "cell_type": "code",
   "execution_count": 12,
   "id": "1aad7e79",
   "metadata": {},
   "outputs": [
    {
     "data": {
      "text/plain": [
       "ConvEasy(\n",
       "  (conv1): Sequential(\n",
       "    (0): Conv2d(1, 8, kernel_size=(5, 5), stride=(1, 1))\n",
       "    (1): MaxPool2d(kernel_size=2, stride=2, padding=0, dilation=1, ceil_mode=False)\n",
       "  )\n",
       "  (model): Sequential(\n",
       "    (0): Conv2d(1, 32, kernel_size=(5, 5), stride=(1, 1))\n",
       "    (1): ReLU()\n",
       "    (2): MaxPool2d(kernel_size=2, stride=2, padding=0, dilation=1, ceil_mode=False)\n",
       "    (3): Flatten(start_dim=1, end_dim=-1)\n",
       "    (4): Linear(in_features=6272, out_features=128, bias=True)\n",
       "    (5): ReLU()\n",
       "    (6): Linear(in_features=128, out_features=4, bias=True)\n",
       "  )\n",
       ")"
      ]
     },
     "execution_count": 12,
     "metadata": {},
     "output_type": "execute_result"
    }
   ],
   "source": [
    "model.double()"
   ]
  },
  {
   "cell_type": "markdown",
   "id": "e96b715f",
   "metadata": {},
   "source": [
    "Check if forwarding of a simple sample works:"
   ]
  },
  {
   "cell_type": "code",
   "execution_count": 13,
   "id": "dd572594",
   "metadata": {},
   "outputs": [
    {
     "data": {
      "text/plain": [
       "tensor([[ 0.0158,  0.0444, -0.0077, -0.1260]], device='cuda:0',\n",
       "       dtype=torch.float64, grad_fn=<AddmmBackward>)"
      ]
     },
     "execution_count": 13,
     "metadata": {},
     "output_type": "execute_result"
    }
   ],
   "source": [
    "model.forward(train_set.data[0].unsqueeze(0).to(device))"
   ]
  },
  {
   "cell_type": "markdown",
   "id": "4245e8f5",
   "metadata": {},
   "source": [
    "# Optimization Loop\n",
    "Select an optimizer:"
   ]
  },
  {
   "cell_type": "code",
   "execution_count": 14,
   "id": "0da6ba76",
   "metadata": {},
   "outputs": [],
   "source": [
    "optimizer = torch.optim.SGD(model.parameters(), lr=learning_rate)"
   ]
  },
  {
   "cell_type": "markdown",
   "id": "263cb226",
   "metadata": {},
   "source": [
    "Check how the NN detects rectancles without any training:"
   ]
  },
  {
   "cell_type": "code",
   "execution_count": 15,
   "id": "70c183a5",
   "metadata": {},
   "outputs": [
    {
     "name": "stdout",
     "output_type": "stream",
     "text": [
      "[[ 0.01578754  0.04435614 -0.00774432 -0.12604602]]\n",
      "[[ 0.01909957  0.01483148  0.00179394 -0.13919029]]\n",
      "[[ 0.00831295 -0.01082103 -0.04767511 -0.08008296]]\n",
      "[[ 0.05000435  0.01255254  0.03699026 -0.14031743]]\n",
      "[[ 0.16497151 -0.00099597  0.00608352 -0.13720561]]\n",
      "[[ 0.02703913  0.03232631  0.00343466 -0.13659818]]\n",
      "[[ 0.04448303 -0.02711885 -0.00050177 -0.14498458]]\n",
      "[[ 0.00360276 -0.03046145 -0.0262361  -0.12080125]]\n",
      "[[ 0.08133016  0.00473362 -0.0332611  -0.10133068]]\n"
     ]
    },
    {
     "data": {
      "image/png": "[encoded data removed]",
      "text/plain": [
       "<Figure size 720x720 with 9 Axes>"
      ]
     },
     "metadata": {
      "needs_background": "light"
     },
     "output_type": "display_data"
    },
    {
     "data": {
      "text/plain": [
       "ConvEasy(\n",
       "  (conv1): Sequential(\n",
       "    (0): Conv2d(1, 8, kernel_size=(5, 5), stride=(1, 1))\n",
       "    (1): MaxPool2d(kernel_size=2, stride=2, padding=0, dilation=1, ceil_mode=False)\n",
       "  )\n",
       "  (model): Sequential(\n",
       "    (0): Conv2d(1, 32, kernel_size=(5, 5), stride=(1, 1))\n",
       "    (1): ReLU()\n",
       "    (2): MaxPool2d(kernel_size=2, stride=2, padding=0, dilation=1, ceil_mode=False)\n",
       "    (3): Flatten(start_dim=1, end_dim=-1)\n",
       "    (4): Linear(in_features=6272, out_features=128, bias=True)\n",
       "    (5): ReLU()\n",
       "    (6): Linear(in_features=128, out_features=4, bias=True)\n",
       "  )\n",
       ")"
      ]
     },
     "execution_count": 15,
     "metadata": {},
     "output_type": "execute_result"
    }
   ],
   "source": [
    "num_samples = 9\n",
    "fig = plt.figure(figsize=(10, 10))\n",
    "rows, cols = 3, 3\n",
    "model.eval()\n",
    "\n",
    "with torch.no_grad():\n",
    "    for i, (img, label) in enumerate(train_set):\n",
    "        pred = model.forward(img.unsqueeze(0).to(device)).cpu().numpy()\n",
    "        print(pred)\n",
    "        fig.add_subplot(rows, cols, i+1)\n",
    "        plt.title(f\"Bild {i+1}\")\n",
    "        plt.subplots_adjust(wspace=0.4, hspace=0.5)\n",
    "        plt.imshow(img.cpu().T, origin=\"lower\", extent=[0, img_width, 0, img_height])\n",
    "        for bbox in pred:\n",
    "            plt.gca().add_patch(matplotlib.patches.Rectangle((bbox[0], bbox[1]), bbox[2], bbox[3], ec='r', fc='none'))\n",
    "        if i >= num_samples - 1:\n",
    "            break\n",
    "    plt.show()\n",
    "model.train()"
   ]
  },
  {
   "cell_type": "markdown",
   "id": "1e013529",
   "metadata": {},
   "source": [
    "Train the CNN:"
   ]
  },
  {
   "cell_type": "code",
   "execution_count": 16,
   "id": "da736029",
   "metadata": {},
   "outputs": [
    {
     "name": "stdout",
     "output_type": "stream",
     "text": [
      "-------------------------------\n",
      "Epoch 1\n",
      "\n",
      "Train loss: 213.82229186205785]\n",
      "-------------------------------\n",
      "Epoch 2\n",
      "\n",
      "Train loss: 1.4311549319591754]\n",
      "-------------------------------\n",
      "Epoch 3\n",
      "\n",
      "Train loss: 2.39753951243629]\n",
      "-------------------------------\n",
      "Epoch 4\n",
      "\n",
      "Train loss: 0.6027910320508949]\n",
      "-------------------------------\n",
      "Epoch 5\n",
      "\n",
      "Train loss: 0.8350210604025206]\n",
      "-------------------------------\n",
      "Epoch 6\n",
      "\n",
      "Train loss: 0.4798714559273051]\n",
      "-------------------------------\n",
      "Epoch 7\n",
      "\n",
      "Train loss: 0.5426997220720714]\n",
      "-------------------------------\n",
      "Epoch 8\n",
      "\n",
      "Train loss: 0.363016917232474]\n",
      "-------------------------------\n",
      "Epoch 9\n",
      "\n",
      "Train loss: 0.13320908311991933]\n",
      "-------------------------------\n",
      "Epoch 10\n",
      "\n",
      "Train loss: 0.3409879269295386]\n",
      "-------------------------------\n",
      "Epoch 11\n",
      "\n",
      "Train loss: 0.12074122803431409]\n",
      "-------------------------------\n",
      "Epoch 12\n",
      "\n",
      "Train loss: 0.15589198777841923]\n",
      "-------------------------------\n",
      "Epoch 13\n",
      "\n",
      "Train loss: 0.2964277481100097]\n",
      "-------------------------------\n",
      "Epoch 14\n",
      "\n",
      "Train loss: 0.16006980202533017]\n",
      "-------------------------------\n",
      "Epoch 15\n",
      "\n",
      "Train loss: 0.08873718775357688]\n",
      "-------------------------------\n",
      "Epoch 16\n",
      "\n",
      "Train loss: 0.09285396164347112]\n",
      "-------------------------------\n",
      "Epoch 17\n",
      "\n",
      "Train loss: 0.6222078351300213]\n",
      "-------------------------------\n",
      "Epoch 18\n",
      "\n",
      "Train loss: 0.17991846799290565]\n",
      "-------------------------------\n",
      "Epoch 19\n",
      "\n",
      "Train loss: 0.10391757174581076]\n",
      "-------------------------------\n",
      "Epoch 20\n",
      "\n",
      "Train loss: 0.14818068994065212]\n",
      "-------------------------------\n",
      "Epoch 21\n",
      "\n",
      "Train loss: 0.11098499825304367]\n",
      "-------------------------------\n",
      "Epoch 22\n",
      "\n",
      "Train loss: 0.5137764855692362]\n",
      "-------------------------------\n",
      "Epoch 23\n",
      "\n",
      "Train loss: 0.07140639482265587]\n",
      "-------------------------------\n",
      "Epoch 24\n",
      "\n",
      "Train loss: 0.12430121566554628]\n",
      "-------------------------------\n",
      "Epoch 25\n",
      "\n",
      "Train loss: 0.05927256820035692]\n",
      "-------------------------------\n",
      "Epoch 26\n",
      "\n",
      "Train loss: 0.1449123770300693]\n",
      "-------------------------------\n",
      "Epoch 27\n",
      "\n",
      "Train loss: 0.07434642967789382]\n",
      "-------------------------------\n",
      "Epoch 28\n",
      "\n",
      "Train loss: 0.05006499396033506]\n",
      "-------------------------------\n",
      "Epoch 29\n",
      "\n",
      "Train loss: 0.06184962758331624]\n",
      "-------------------------------\n",
      "Epoch 30\n",
      "\n",
      "Train loss: 0.09099342875500328]\n"
     ]
    }
   ],
   "source": [
    "model.train()\n",
    "for t in range(epochs):\n",
    "    print(f\"-------------------------------\\nEpoch {t+1}\\n\")\n",
    "    train_loop(train_dataloader, model, loss_fn, optimizer, device)"
   ]
  },
  {
   "cell_type": "markdown",
   "id": "47f4ad55",
   "metadata": {},
   "source": [
    "Check how the NN detects rectancles after training:"
   ]
  },
  {
   "cell_type": "code",
   "execution_count": 17,
   "id": "c6ca2111",
   "metadata": {},
   "outputs": [
    {
     "name": "stdout",
     "output_type": "stream",
     "text": [
      "[[ 0.24945008  1.31970264 31.28294267  5.48116539]]\n",
      "[[ 0.08182264  4.33138965 19.9684403  21.67746654]]\n",
      "[[21.63164471  2.79077734  3.01813847 17.15495897]]\n",
      "[[18.36571398  0.17438487  7.85051016 30.87230075]]\n",
      "[[ 1.00233944  2.10610376 19.20901751 17.9008871 ]]\n",
      "[[ 1.150474   13.38441308 25.26846489 15.66273954]]\n",
      "[[9.90933145e+00 1.17318165e-02 1.31685858e+01 1.88989517e+01]]\n",
      "[[10.732029   14.00272313 17.22175901  5.26406494]]\n",
      "[[1.10129113e-03 5.04927430e+00 1.20647029e+01 2.09073417e+01]]\n"
     ]
    },
    {
     "data": {
      "image/png": "[encoded data removed]",
      "text/plain": [
       "<Figure size 720x720 with 9 Axes>"
      ]
     },
     "metadata": {
      "needs_background": "light"
     },
     "output_type": "display_data"
    }
   ],
   "source": [
    "num_samples = 9\n",
    "fig = plt.figure(figsize=(10, 10))\n",
    "train_set.to_inplace(device)\n",
    "rows, cols = 3, 3\n",
    "model.eval()\n",
    "\n",
    "with torch.no_grad():\n",
    "    for i, (img, label) in enumerate(val_set):\n",
    "        pred = model.forward(img.unsqueeze(0).to(device)).cpu().numpy()\n",
    "        print(pred)\n",
    "        fig.add_subplot(rows, cols, i+1)\n",
    "        plt.title(f\"Bild {i+1}\")\n",
    "        plt.subplots_adjust(wspace=0.4, hspace=0.5)\n",
    "        plt.imshow(img.cpu().T, origin=\"lower\", extent=[0, img_width, 0, img_height])\n",
    "        for bbox in pred:\n",
    "            plt.gca().add_patch(matplotlib.patches.Rectangle((bbox[0], bbox[1]), bbox[2], bbox[3], ec='r', fc='none'))\n",
    "        if i >= num_samples - 1:\n",
    "            break\n",
    "    plt.show()"
   ]
  },
  {
   "cell_type": "code",
   "execution_count": null,
   "id": "20e7c2b4",
   "metadata": {},
   "outputs": [],
   "source": []
  }
 ],
 "metadata": {
  "kernelspec": {
   "display_name": "Python 3 (ipykernel)",
   "language": "python",
   "name": "python3"
  },
  "language_info": {
   "codemirror_mode": {
    "name": "ipython",
    "version": 3
   },
   "file_extension": ".py",
   "mimetype": "text/x-python",
   "name": "python",
   "nbconvert_exporter": "python",
   "pygments_lexer": "ipython3",
   "version": "3.8.12"
  }
 },
 "nbformat": 4,
 "nbformat_minor": 5
}
